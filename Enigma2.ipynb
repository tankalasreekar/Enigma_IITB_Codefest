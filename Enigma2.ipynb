{
  "nbformat": 4,
  "nbformat_minor": 0,
  "metadata": {
    "kernelspec": {
      "name": "python3",
      "display_name": "Python 3"
    },
    "language_info": {
      "codemirror_mode": {
        "name": "ipython",
        "version": 3
      },
      "file_extension": ".py",
      "mimetype": "text/x-python",
      "name": "python",
      "nbconvert_exporter": "python",
      "pygments_lexer": "ipython3",
      "version": "3.7.3"
    },
    "colab": {
      "name": "Enigma.ipynb",
      "version": "0.3.2",
      "provenance": [],
      "collapsed_sections": [],
      "machine_shape": "hm"
    },
    "accelerator": "GPU"
  },
  "cells": [
    {
      "cell_type": "code",
      "metadata": {
        "id": "bskDbsIuJnPo",
        "colab_type": "code",
        "outputId": "9e1b4f9b-e8a7-4bb0-bf68-19145e6d4bc2",
        "colab": {
          "base_uri": "https://localhost:8080/",
          "height": 126
        }
      },
      "source": [
        "from google.colab import drive\n",
        "drive.mount('/content/drive')"
      ],
      "execution_count": 1,
      "outputs": [
        {
          "output_type": "stream",
          "text": [
            "Go to this URL in a browser: https://accounts.google.com/o/oauth2/auth?client_id=947318989803-6bn6qk8qdgf4n4g3pfee6491hc0brc4i.apps.googleusercontent.com&redirect_uri=urn%3Aietf%3Awg%3Aoauth%3A2.0%3Aoob&scope=email%20https%3A%2F%2Fwww.googleapis.com%2Fauth%2Fdocs.test%20https%3A%2F%2Fwww.googleapis.com%2Fauth%2Fdrive%20https%3A%2F%2Fwww.googleapis.com%2Fauth%2Fdrive.photos.readonly%20https%3A%2F%2Fwww.googleapis.com%2Fauth%2Fpeopleapi.readonly&response_type=code\n",
            "\n",
            "Enter your authorization code:\n",
            "··········\n",
            "Mounted at /content/drive\n"
          ],
          "name": "stdout"
        }
      ]
    },
    {
      "cell_type": "code",
      "metadata": {
        "id": "pFKBziFVBjTt",
        "colab_type": "code",
        "colab": {
          "base_uri": "https://localhost:8080/",
          "height": 35
        },
        "outputId": "5f59f9f5-845a-4b24-85a3-28d2d774153e"
      },
      "source": [
        "cd .."
      ],
      "execution_count": 3,
      "outputs": [
        {
          "output_type": "stream",
          "text": [
            "/\n"
          ],
          "name": "stdout"
        }
      ]
    },
    {
      "cell_type": "code",
      "metadata": {
        "id": "vWHnJliKJ18g",
        "colab_type": "code",
        "outputId": "bbe180f8-f00b-4189-de52-eb7b2cd7d2bc",
        "colab": {
          "base_uri": "https://localhost:8080/",
          "height": 35
        }
      },
      "source": [
        "cd content/drive/My Drive/Enigma/data"
      ],
      "execution_count": 4,
      "outputs": [
        {
          "output_type": "stream",
          "text": [
            "/content/drive/My Drive/Enigma/data\n"
          ],
          "name": "stdout"
        }
      ]
    },
    {
      "cell_type": "code",
      "metadata": {
        "id": "43ZVCS4DJhxd",
        "colab_type": "code",
        "colab": {}
      },
      "source": [
        "import numpy as np\n",
        "import pandas as pd\n",
        "import ast"
      ],
      "execution_count": 0,
      "outputs": []
    },
    {
      "cell_type": "code",
      "metadata": {
        "id": "_ozO1DGJJhxk",
        "colab_type": "code",
        "colab": {}
      },
      "source": [
        "authors = pd.read_csv('authors.csv')\n",
        "train = pd.read_csv('train.csv')\n",
        "test = pd.read_csv('test.csv')"
      ],
      "execution_count": 0,
      "outputs": []
    },
    {
      "cell_type": "code",
      "metadata": {
        "id": "HPynEAbhJhxu",
        "colab_type": "code",
        "colab": {}
      },
      "source": [
        "def stringtolist(str):\n",
        "    return ast.literal_eval(str)\n",
        "def len_list(author_id):\n",
        "  return len(author_id)"
      ],
      "execution_count": 0,
      "outputs": []
    },
    {
      "cell_type": "code",
      "metadata": {
        "scrolled": true,
        "id": "PRkCNk-hJhyX",
        "colab_type": "code",
        "colab": {}
      },
      "source": [
        "def interest_set(interests):\n",
        "    return list(set([y for x in interests for y in x]))"
      ],
      "execution_count": 0,
      "outputs": []
    },
    {
      "cell_type": "code",
      "metadata": {
        "id": "-5r6oN4ipOsY",
        "colab_type": "code",
        "colab": {
          "base_uri": "https://localhost:8080/",
          "height": 230
        },
        "outputId": "42c8a036-43c4-4f34-cf44-ff6c534d40b5"
      },
      "source": [
        "authors.head()"
      ],
      "execution_count": 27,
      "outputs": [
        {
          "output_type": "execute_result",
          "data": {
            "text/html": [
              "<div>\n",
              "<style scoped>\n",
              "    .dataframe tbody tr th:only-of-type {\n",
              "        vertical-align: middle;\n",
              "    }\n",
              "\n",
              "    .dataframe tbody tr th {\n",
              "        vertical-align: top;\n",
              "    }\n",
              "\n",
              "    .dataframe thead th {\n",
              "        text-align: right;\n",
              "    }\n",
              "</style>\n",
              "<table border=\"1\" class=\"dataframe\">\n",
              "  <thead>\n",
              "    <tr style=\"text-align: right;\">\n",
              "      <th></th>\n",
              "      <th>id</th>\n",
              "      <th>affiliation</th>\n",
              "      <th>published-papers</th>\n",
              "      <th>citations</th>\n",
              "      <th>h-index</th>\n",
              "      <th>p-equal-a</th>\n",
              "      <th>p-unequal-a</th>\n",
              "      <th>interests</th>\n",
              "    </tr>\n",
              "    <tr>\n",
              "      <th>id</th>\n",
              "      <th></th>\n",
              "      <th></th>\n",
              "      <th></th>\n",
              "      <th></th>\n",
              "      <th></th>\n",
              "      <th></th>\n",
              "      <th></th>\n",
              "      <th></th>\n",
              "    </tr>\n",
              "  </thead>\n",
              "  <tbody>\n",
              "    <tr>\n",
              "      <th>1101155</th>\n",
              "      <td>1101155</td>\n",
              "      <td>Northeastern University, Boston, MA, USA</td>\n",
              "      <td>1</td>\n",
              "      <td>0</td>\n",
              "      <td>0</td>\n",
              "      <td>0.0000</td>\n",
              "      <td>0.0000</td>\n",
              "      <td>['social network', 'social network-enabled EAP...</td>\n",
              "    </tr>\n",
              "    <tr>\n",
              "      <th>1377286</th>\n",
              "      <td>1377286</td>\n",
              "      <td>Department of Computer Science, University of ...</td>\n",
              "      <td>2</td>\n",
              "      <td>14</td>\n",
              "      <td>0</td>\n",
              "      <td>4.5000</td>\n",
              "      <td>1.8750</td>\n",
              "      <td>['D scheme', 'split task', 'mixed criticality ...</td>\n",
              "    </tr>\n",
              "    <tr>\n",
              "      <th>1613605</th>\n",
              "      <td>1613605</td>\n",
              "      <td>NaN</td>\n",
              "      <td>1</td>\n",
              "      <td>0</td>\n",
              "      <td>0</td>\n",
              "      <td>0.0000</td>\n",
              "      <td>0.0000</td>\n",
              "      <td>['present value', 'expected value', 'Random Ra...</td>\n",
              "    </tr>\n",
              "    <tr>\n",
              "      <th>629007</th>\n",
              "      <td>629007</td>\n",
              "      <td>NaN</td>\n",
              "      <td>1</td>\n",
              "      <td>0</td>\n",
              "      <td>0</td>\n",
              "      <td>0.0000</td>\n",
              "      <td>0.0000</td>\n",
              "      <td>['ride comfort', 'different vehicle speed', 'v...</td>\n",
              "    </tr>\n",
              "    <tr>\n",
              "      <th>1390253</th>\n",
              "      <td>1390253</td>\n",
              "      <td>United Institute of Informatics Problems, Nati...</td>\n",
              "      <td>6</td>\n",
              "      <td>5</td>\n",
              "      <td>2</td>\n",
              "      <td>1.3333</td>\n",
              "      <td>0.3611</td>\n",
              "      <td>['spindle head', 'decision support system', 'm...</td>\n",
              "    </tr>\n",
              "  </tbody>\n",
              "</table>\n",
              "</div>"
            ],
            "text/plain": [
              "              id  ...                                          interests\n",
              "id                ...                                                   \n",
              "1101155  1101155  ...  ['social network', 'social network-enabled EAP...\n",
              "1377286  1377286  ...  ['D scheme', 'split task', 'mixed criticality ...\n",
              "1613605  1613605  ...  ['present value', 'expected value', 'Random Ra...\n",
              "629007    629007  ...  ['ride comfort', 'different vehicle speed', 'v...\n",
              "1390253  1390253  ...  ['spindle head', 'decision support system', 'm...\n",
              "\n",
              "[5 rows x 8 columns]"
            ]
          },
          "metadata": {
            "tags": []
          },
          "execution_count": 27
        }
      ]
    },
    {
      "cell_type": "code",
      "metadata": {
        "id": "Ld8WIHY3JhyE",
        "colab_type": "code",
        "colab": {}
      },
      "source": [
        "def process(author_id):\n",
        "    listrey = ast.literal_eval(author_id)\n",
        "    pps,cits,hidx,pea,puea,aff_authors,interests=0,0,0,0,0,0,0\n",
        "    interests,affs = [],[]\n",
        "    for i in listrey:\n",
        "        i = int(i)\n",
        "        pps += authors.loc[i]['published-papers']\n",
        "        cits += authors.loc[i]['citations']\n",
        "        hidx += authors.loc[i]['h-index']\n",
        "        pea += authors.loc[i]['p-equal-a']\n",
        "        puea += authors.loc[i]['p-unequal-a']\n",
        "        interests.append(authors.loc[i]['interests'])\n",
        "        if (pd.isna(authors.loc[i]['affiliation']))==False:\n",
        "          affs.append(authors.loc[i]['affiliation'])\n",
        "    aff_authors = len(affs)\n",
        "    return [pps,cits,hidx,pea,puea,aff_authors,interests]"
      ],
      "execution_count": 0,
      "outputs": []
    },
    {
      "cell_type": "code",
      "metadata": {
        "id": "JwuCknfCJhyM",
        "colab_type": "code",
        "colab": {}
      },
      "source": [
        "authors.index = authors.id\n",
        "train['new_data'] = train['author_id'].apply(process)\n",
        "new_data = pd.DataFrame(train['new_data'].values.tolist(), columns=['published_papers','authors_citations','h_index','pequala','punequala','aff_authors','interests'])\n",
        "train = pd.concat((train,new_data),1)\n",
        "train.drop('new_data',1,inplace=True)\n",
        "train['author_id'] = train['author_id'].apply(stringtolist)\n",
        "train['authors'] = train['author_id'].apply(len_list)"
      ],
      "execution_count": 0,
      "outputs": []
    },
    {
      "cell_type": "code",
      "metadata": {
        "id": "Pj3z70SFle7q",
        "colab_type": "code",
        "colab": {}
      },
      "source": [
        "def no_of_interests(data):\n",
        "  length = 0\n",
        "  for i in data:\n",
        "    length += len(i.split(','))\n",
        "  return length"
      ],
      "execution_count": 0,
      "outputs": []
    },
    {
      "cell_type": "code",
      "metadata": {
        "id": "koIpOtfZmscO",
        "colab_type": "code",
        "colab": {}
      },
      "source": [
        "train['interests'] = train['interests'].apply(no_of_interests)"
      ],
      "execution_count": 0,
      "outputs": []
    },
    {
      "cell_type": "code",
      "metadata": {
        "id": "Tp5j70cQ136a",
        "colab_type": "code",
        "colab": {}
      },
      "source": [
        "authors_interests = 0\n",
        "interests_list = []\n",
        "for i in list(authors['interests']):\n",
        "  singlelist = ast.literal_eval(i)\n",
        "  for j in singlelist:\n",
        "    interests_list.append(j)\n",
        "authors_interests = len(set(interests_list))"
      ],
      "execution_count": 0,
      "outputs": []
    },
    {
      "cell_type": "code",
      "metadata": {
        "id": "jOsNbKKN4hb4",
        "colab_type": "code",
        "colab": {}
      },
      "source": [
        "train['interests_pct'] = (train['interests']/authors_interests)*100"
      ],
      "execution_count": 0,
      "outputs": []
    },
    {
      "cell_type": "code",
      "metadata": {
        "id": "j44lMpzQmlC-",
        "colab_type": "code",
        "colab": {
          "base_uri": "https://localhost:8080/",
          "height": 353
        },
        "outputId": "69b3c6b9-43a2-4363-a1dc-f7d2eb2c2d34"
      },
      "source": [
        "train.head()"
      ],
      "execution_count": 68,
      "outputs": [
        {
          "output_type": "execute_result",
          "data": {
            "text/html": [
              "<div>\n",
              "<style scoped>\n",
              "    .dataframe tbody tr th:only-of-type {\n",
              "        vertical-align: middle;\n",
              "    }\n",
              "\n",
              "    .dataframe tbody tr th {\n",
              "        vertical-align: top;\n",
              "    }\n",
              "\n",
              "    .dataframe thead th {\n",
              "        text-align: right;\n",
              "    }\n",
              "</style>\n",
              "<table border=\"1\" class=\"dataframe\">\n",
              "  <thead>\n",
              "    <tr style=\"text-align: right;\">\n",
              "      <th></th>\n",
              "      <th>author_id</th>\n",
              "      <th>year</th>\n",
              "      <th>venue_id</th>\n",
              "      <th>citations</th>\n",
              "      <th>id</th>\n",
              "      <th>published_papers</th>\n",
              "      <th>authors_citations</th>\n",
              "      <th>h_index</th>\n",
              "      <th>pequala</th>\n",
              "      <th>punequala</th>\n",
              "      <th>aff_authors</th>\n",
              "      <th>interests</th>\n",
              "      <th>authors</th>\n",
              "      <th>interests_pct</th>\n",
              "    </tr>\n",
              "  </thead>\n",
              "  <tbody>\n",
              "    <tr>\n",
              "      <th>0</th>\n",
              "      <td>[302080, 254034, 1650574, 1688060, 356214, 144...</td>\n",
              "      <td>2011.0</td>\n",
              "      <td>15632</td>\n",
              "      <td>0</td>\n",
              "      <td>162253</td>\n",
              "      <td>23</td>\n",
              "      <td>12</td>\n",
              "      <td>7</td>\n",
              "      <td>1.5929</td>\n",
              "      <td>2.0285</td>\n",
              "      <td>2</td>\n",
              "      <td>81</td>\n",
              "      <td>9</td>\n",
              "      <td>0.003248</td>\n",
              "    </tr>\n",
              "    <tr>\n",
              "      <th>1</th>\n",
              "      <td>[471182]</td>\n",
              "      <td>2010.0</td>\n",
              "      <td>15752</td>\n",
              "      <td>0</td>\n",
              "      <td>42448</td>\n",
              "      <td>1</td>\n",
              "      <td>0</td>\n",
              "      <td>0</td>\n",
              "      <td>0.0000</td>\n",
              "      <td>0.0000</td>\n",
              "      <td>1</td>\n",
              "      <td>10</td>\n",
              "      <td>1</td>\n",
              "      <td>0.000401</td>\n",
              "    </tr>\n",
              "    <tr>\n",
              "      <th>2</th>\n",
              "      <td>[1252574]</td>\n",
              "      <td>2012.0</td>\n",
              "      <td>19098</td>\n",
              "      <td>0</td>\n",
              "      <td>226093</td>\n",
              "      <td>27</td>\n",
              "      <td>48</td>\n",
              "      <td>4</td>\n",
              "      <td>39.6667</td>\n",
              "      <td>43.7222</td>\n",
              "      <td>1</td>\n",
              "      <td>10</td>\n",
              "      <td>1</td>\n",
              "      <td>0.000401</td>\n",
              "    </tr>\n",
              "    <tr>\n",
              "      <th>3</th>\n",
              "      <td>[1700521, 1634966, 1560119, 1588537, 1657765]</td>\n",
              "      <td>2012.0</td>\n",
              "      <td>20323</td>\n",
              "      <td>29</td>\n",
              "      <td>281211</td>\n",
              "      <td>38</td>\n",
              "      <td>299</td>\n",
              "      <td>9</td>\n",
              "      <td>151.1667</td>\n",
              "      <td>120.1194</td>\n",
              "      <td>2</td>\n",
              "      <td>50</td>\n",
              "      <td>5</td>\n",
              "      <td>0.002005</td>\n",
              "    </tr>\n",
              "    <tr>\n",
              "      <th>4</th>\n",
              "      <td>[750555, 1125222]</td>\n",
              "      <td>2010.0</td>\n",
              "      <td>12539</td>\n",
              "      <td>0</td>\n",
              "      <td>8973</td>\n",
              "      <td>4</td>\n",
              "      <td>0</td>\n",
              "      <td>0</td>\n",
              "      <td>0.0000</td>\n",
              "      <td>0.0000</td>\n",
              "      <td>0</td>\n",
              "      <td>20</td>\n",
              "      <td>2</td>\n",
              "      <td>0.000802</td>\n",
              "    </tr>\n",
              "  </tbody>\n",
              "</table>\n",
              "</div>"
            ],
            "text/plain": [
              "                                           author_id  ...  interests_pct\n",
              "0  [302080, 254034, 1650574, 1688060, 356214, 144...  ...       0.003248\n",
              "1                                           [471182]  ...       0.000401\n",
              "2                                          [1252574]  ...       0.000401\n",
              "3      [1700521, 1634966, 1560119, 1588537, 1657765]  ...       0.002005\n",
              "4                                  [750555, 1125222]  ...       0.000802\n",
              "\n",
              "[5 rows x 14 columns]"
            ]
          },
          "metadata": {
            "tags": []
          },
          "execution_count": 68
        }
      ]
    },
    {
      "cell_type": "code",
      "metadata": {
        "id": "CBjw4YFG5Hjh",
        "colab_type": "code",
        "colab": {}
      },
      "source": [
        "train2 = train\n",
        "train2.to_csv('train2.csv')"
      ],
      "execution_count": 0,
      "outputs": []
    },
    {
      "cell_type": "code",
      "metadata": {
        "id": "-Miyu34ZJhzA",
        "colab_type": "code",
        "colab": {}
      },
      "source": [
        "from sklearn.model_selection import train_test_split\n",
        "from sklearn.metrics import r2_score\n",
        "from sklearn.linear_model import LinearRegression\n",
        "from sklearn.svm import SVR\n",
        "\n",
        "y = train2['citations']\n",
        "X = train2.drop(['author_id','id','citations','interests','year','venue_id'],1)"
      ],
      "execution_count": 0,
      "outputs": []
    },
    {
      "cell_type": "code",
      "metadata": {
        "id": "XgtLHpow6qEC",
        "colab_type": "code",
        "colab": {}
      },
      "source": [
        "from sklearn.preprocessing import StandardScaler\n",
        "sc = StandardScaler()\n",
        "X.iloc[:,:-1] = sc.fit_transform(X.iloc[:,:-1])"
      ],
      "execution_count": 0,
      "outputs": []
    },
    {
      "cell_type": "code",
      "metadata": {
        "id": "Y0bAGqRE7ZLF",
        "colab_type": "code",
        "colab": {}
      },
      "source": [
        "X_train , X_test , y_train , y_test = train_test_split(X,y,test_size=0.2)"
      ],
      "execution_count": 0,
      "outputs": []
    },
    {
      "cell_type": "code",
      "metadata": {
        "id": "MtaDbooaJhzR",
        "colab_type": "code",
        "colab": {
          "base_uri": "https://localhost:8080/",
          "height": 106
        },
        "outputId": "8d869431-9343-43ff-c5b5-7219d9abfc01"
      },
      "source": [
        "lr = LinearRegression()\n",
        "lr.fit(X_train,y_train)\n",
        "y_pred = lr.predict(X_test)\n",
        "print(r2_score(y_test,y_pred))\n",
        "import xgboost\n",
        "\n",
        "# Let's try XGboost algorithm to see if we can get better results\n",
        "xgb = xgboost.XGBRegressor(n_estimators=100, learning_rate=0.08, gamma=0, subsample=0.75,\n",
        "                           colsample_bytree=1, max_depth=7)\n",
        "xgb.fit(X_train,y_train)\n",
        "print(r2_score(y_test, xgb.predict(X_test)))"
      ],
      "execution_count": 82,
      "outputs": [
        {
          "output_type": "stream",
          "text": [
            "0.11367184196612101\n",
            "[18:40:52] WARNING: /workspace/src/objective/regression_obj.cu:152: reg:linear is now deprecated in favor of reg:squarederror.\n"
          ],
          "name": "stdout"
        },
        {
          "output_type": "stream",
          "text": [
            "/usr/local/lib/python3.6/dist-packages/xgboost/core.py:587: FutureWarning: Series.base is deprecated and will be removed in a future version\n",
            "  if getattr(data, 'base', None) is not None and \\\n"
          ],
          "name": "stderr"
        },
        {
          "output_type": "stream",
          "text": [
            "0.15408548030149916\n"
          ],
          "name": "stdout"
        }
      ]
    },
    {
      "cell_type": "code",
      "metadata": {
        "id": "FmoU1z1a-Ctx",
        "colab_type": "code",
        "colab": {
          "base_uri": "https://localhost:8080/",
          "height": 248
        },
        "outputId": "088df70e-e1db-494e-9ebd-0492eca615b8"
      },
      "source": [
        "from keras.models import Sequential\n",
        "from keras.layers import Dense, Activation, Flatten\n",
        "\n",
        "NN_model = Sequential()\n",
        "\n",
        "# The Input Layer :\n",
        "NN_model.add(Dense(128, kernel_initializer='normal',input_dim = X_train.shape[1], activation='relu'))\n",
        "\n",
        "NN_model.add(Dense(256, kernel_initializer='normal',activation='relu'))\n",
        "\n",
        "NN_model.add(Dense(1, kernel_initializer='normal',activation='linear'))\n",
        "\n",
        "# Compile the network :\n",
        "NN_model.compile(loss='mean_absolute_error', optimizer='adam', metrics=['accuracy'])\n",
        "NN_model.summary()"
      ],
      "execution_count": 89,
      "outputs": [
        {
          "output_type": "stream",
          "text": [
            "_________________________________________________________________\n",
            "Layer (type)                 Output Shape              Param #   \n",
            "=================================================================\n",
            "dense_10 (Dense)             (None, 128)               1152      \n",
            "_________________________________________________________________\n",
            "dense_11 (Dense)             (None, 256)               33024     \n",
            "_________________________________________________________________\n",
            "dense_12 (Dense)             (None, 1)                 257       \n",
            "=================================================================\n",
            "Total params: 34,433\n",
            "Trainable params: 34,433\n",
            "Non-trainable params: 0\n",
            "_________________________________________________________________\n"
          ],
          "name": "stdout"
        }
      ]
    },
    {
      "cell_type": "code",
      "metadata": {
        "id": "jJfZDpMA-aHX",
        "colab_type": "code",
        "colab": {}
      },
      "source": [
        "NN_model.fit(X_train, y_train, epochs=50, batch_size=256, validation_split = 0.2)"
      ],
      "execution_count": 0,
      "outputs": []
    },
    {
      "cell_type": "code",
      "metadata": {
        "id": "MBi7X2yF_tAJ",
        "colab_type": "code",
        "colab": {}
      },
      "source": [
        "from keras.layers import Dense, Activation, LeakyReLU,Dropout\n",
        "from keras.models import Sequential\n",
        "from keras.layers import LeakyReLU\n",
        "from keras import regularizers\n",
        "# we still need to clear a graph though\n",
        "\n",
        "model = Sequential()  # it is a feed-forward network without loops like in RNN\n",
        "model.add(Dense(16, input_shape=(8,)))  # the first layer must specify the input shape (replacing placeholders)\n",
        "\n",
        "model.add(Dense(4))\n",
        "\n",
        "model.add(Dense(1))\n",
        "\n",
        "from keras.callbacks import EarlyStopping, ModelCheckpoint\n",
        "model.compile(\n",
        "      loss='mean_squared_error',\n",
        "    optimizer='adam',\n",
        "    metrics=['accuracy']\n",
        ")\n",
        "\n",
        "model.fit(\n",
        "    X_train, \n",
        "    y_train,\n",
        "    batch_size=64, \n",
        "    epochs=20,\n",
        "    validation_data=(X_test, y_test),\n",
        "    verbose=1\n",
        ")"
      ],
      "execution_count": 0,
      "outputs": []
    },
    {
      "cell_type": "code",
      "metadata": {
        "id": "lZJQeyYwXdCy",
        "colab_type": "code",
        "colab": {
          "base_uri": "https://localhost:8080/",
          "height": 35
        },
        "outputId": "febda087-e979-468d-97d5-3c15e13070a7"
      },
      "source": [
        "from sklearn import linear_model\n",
        "reg = linear_model.Ridge(alpha=.5)\n",
        "reg.fit(X_train,y_train)\n",
        "y_predreg = reg.predict(X_test)\n",
        "r2_score(y_test,y_predreg)"
      ],
      "execution_count": 92,
      "outputs": [
        {
          "output_type": "execute_result",
          "data": {
            "text/plain": [
              "0.11368115648873267"
            ]
          },
          "metadata": {
            "tags": []
          },
          "execution_count": 92
        }
      ]
    },
    {
      "cell_type": "code",
      "metadata": {
        "id": "1z3FilgMDY5F",
        "colab_type": "code",
        "colab": {}
      },
      "source": [
        "test['new_data'] = test['author_id'].apply(process)\n",
        "new_data = pd.DataFrame(test['new_data'].values.tolist(), columns=['published_papers','authors_citations','h_index','pequala','punequala','aff_authors','interests'])\n",
        "test = pd.concat((test,new_data),1)\n",
        "test.drop('new_data',1,inplace=True)\n",
        "test['author_id'] = test['author_id'].apply(stringtolist)\n",
        "test['authors'] = test['author_id'].apply(len_list)"
      ],
      "execution_count": 0,
      "outputs": []
    },
    {
      "cell_type": "code",
      "metadata": {
        "id": "dmON9cEn_XSu",
        "colab_type": "code",
        "colab": {}
      },
      "source": [
        "test['interests'] = test['interests'].apply(no_of_interests)\n",
        "test['interests_pct'] = (test['interests']/authors_interests)*100"
      ],
      "execution_count": 0,
      "outputs": []
    },
    {
      "cell_type": "code",
      "metadata": {
        "id": "-iBhQwcL_XN9",
        "colab_type": "code",
        "colab": {}
      },
      "source": [
        "test2 = test\n",
        "test2.to_csv('test2.csv')"
      ],
      "execution_count": 0,
      "outputs": []
    },
    {
      "cell_type": "code",
      "metadata": {
        "id": "vK_yPrJzCRl2",
        "colab_type": "code",
        "colab": {
          "base_uri": "https://localhost:8080/",
          "height": 200
        },
        "outputId": "14782042-7529-446d-f580-7880f956d2de"
      },
      "source": [
        "X_train.head()"
      ],
      "execution_count": 99,
      "outputs": [
        {
          "output_type": "execute_result",
          "data": {
            "text/html": [
              "<div>\n",
              "<style scoped>\n",
              "    .dataframe tbody tr th:only-of-type {\n",
              "        vertical-align: middle;\n",
              "    }\n",
              "\n",
              "    .dataframe tbody tr th {\n",
              "        vertical-align: top;\n",
              "    }\n",
              "\n",
              "    .dataframe thead th {\n",
              "        text-align: right;\n",
              "    }\n",
              "</style>\n",
              "<table border=\"1\" class=\"dataframe\">\n",
              "  <thead>\n",
              "    <tr style=\"text-align: right;\">\n",
              "      <th></th>\n",
              "      <th>published_papers</th>\n",
              "      <th>authors_citations</th>\n",
              "      <th>h_index</th>\n",
              "      <th>pequala</th>\n",
              "      <th>punequala</th>\n",
              "      <th>aff_authors</th>\n",
              "      <th>authors</th>\n",
              "      <th>interests_pct</th>\n",
              "    </tr>\n",
              "  </thead>\n",
              "  <tbody>\n",
              "    <tr>\n",
              "      <th>147179</th>\n",
              "      <td>-0.539527</td>\n",
              "      <td>-0.282294</td>\n",
              "      <td>-0.508044</td>\n",
              "      <td>-0.256775</td>\n",
              "      <td>-0.261294</td>\n",
              "      <td>-1.282175</td>\n",
              "      <td>-0.53563</td>\n",
              "      <td>0.000802</td>\n",
              "    </tr>\n",
              "    <tr>\n",
              "      <th>62424</th>\n",
              "      <td>-0.493333</td>\n",
              "      <td>-0.274022</td>\n",
              "      <td>-0.359362</td>\n",
              "      <td>-0.246559</td>\n",
              "      <td>-0.243136</td>\n",
              "      <td>0.090878</td>\n",
              "      <td>-0.53563</td>\n",
              "      <td>0.000561</td>\n",
              "    </tr>\n",
              "    <tr>\n",
              "      <th>104590</th>\n",
              "      <td>-0.308555</td>\n",
              "      <td>-0.249208</td>\n",
              "      <td>-0.210679</td>\n",
              "      <td>-0.221870</td>\n",
              "      <td>-0.220309</td>\n",
              "      <td>0.090878</td>\n",
              "      <td>-0.53563</td>\n",
              "      <td>0.000682</td>\n",
              "    </tr>\n",
              "    <tr>\n",
              "      <th>150544</th>\n",
              "      <td>-0.516430</td>\n",
              "      <td>-0.284362</td>\n",
              "      <td>-0.656726</td>\n",
              "      <td>-0.259329</td>\n",
              "      <td>-0.262591</td>\n",
              "      <td>-1.282175</td>\n",
              "      <td>0.14258</td>\n",
              "      <td>0.001203</td>\n",
              "    </tr>\n",
              "    <tr>\n",
              "      <th>158220</th>\n",
              "      <td>0.130292</td>\n",
              "      <td>-0.133410</td>\n",
              "      <td>0.532732</td>\n",
              "      <td>-0.111196</td>\n",
              "      <td>-0.183042</td>\n",
              "      <td>1.463931</td>\n",
              "      <td>0.82079</td>\n",
              "      <td>0.001604</td>\n",
              "    </tr>\n",
              "  </tbody>\n",
              "</table>\n",
              "</div>"
            ],
            "text/plain": [
              "        published_papers  authors_citations  ...  authors  interests_pct\n",
              "147179         -0.539527          -0.282294  ... -0.53563       0.000802\n",
              "62424          -0.493333          -0.274022  ... -0.53563       0.000561\n",
              "104590         -0.308555          -0.249208  ... -0.53563       0.000682\n",
              "150544         -0.516430          -0.284362  ...  0.14258       0.001203\n",
              "158220          0.130292          -0.133410  ...  0.82079       0.001604\n",
              "\n",
              "[5 rows x 8 columns]"
            ]
          },
          "metadata": {
            "tags": []
          },
          "execution_count": 99
        }
      ]
    },
    {
      "cell_type": "code",
      "metadata": {
        "id": "H9Z4vbYeJh0n",
        "colab_type": "code",
        "outputId": "c8db7ab2-708d-4d0d-d0c6-61ff88c5e13f",
        "colab": {
          "base_uri": "https://localhost:8080/",
          "height": 200
        }
      },
      "source": [
        "test.head()"
      ],
      "execution_count": 105,
      "outputs": [
        {
          "output_type": "execute_result",
          "data": {
            "text/html": [
              "<div>\n",
              "<style scoped>\n",
              "    .dataframe tbody tr th:only-of-type {\n",
              "        vertical-align: middle;\n",
              "    }\n",
              "\n",
              "    .dataframe tbody tr th {\n",
              "        vertical-align: top;\n",
              "    }\n",
              "\n",
              "    .dataframe thead th {\n",
              "        text-align: right;\n",
              "    }\n",
              "</style>\n",
              "<table border=\"1\" class=\"dataframe\">\n",
              "  <thead>\n",
              "    <tr style=\"text-align: right;\">\n",
              "      <th></th>\n",
              "      <th>published_papers</th>\n",
              "      <th>authors_citations</th>\n",
              "      <th>h_index</th>\n",
              "      <th>pequala</th>\n",
              "      <th>punequala</th>\n",
              "      <th>aff_authors</th>\n",
              "      <th>authors</th>\n",
              "      <th>interests_pct</th>\n",
              "    </tr>\n",
              "  </thead>\n",
              "  <tbody>\n",
              "    <tr>\n",
              "      <th>0</th>\n",
              "      <td>-0.562625</td>\n",
              "      <td>-0.284362</td>\n",
              "      <td>-0.656726</td>\n",
              "      <td>-0.259329</td>\n",
              "      <td>-0.262591</td>\n",
              "      <td>-0.595648</td>\n",
              "      <td>-1.21384</td>\n",
              "      <td>0.000321</td>\n",
              "    </tr>\n",
              "    <tr>\n",
              "      <th>1</th>\n",
              "      <td>-0.239263</td>\n",
              "      <td>-0.253344</td>\n",
              "      <td>-0.210679</td>\n",
              "      <td>-0.239918</td>\n",
              "      <td>-0.229797</td>\n",
              "      <td>0.090878</td>\n",
              "      <td>-0.53563</td>\n",
              "      <td>0.000802</td>\n",
              "    </tr>\n",
              "    <tr>\n",
              "      <th>2</th>\n",
              "      <td>-0.539527</td>\n",
              "      <td>-0.276090</td>\n",
              "      <td>-0.359362</td>\n",
              "      <td>-0.252518</td>\n",
              "      <td>-0.257692</td>\n",
              "      <td>-1.282175</td>\n",
              "      <td>-0.53563</td>\n",
              "      <td>0.000321</td>\n",
              "    </tr>\n",
              "    <tr>\n",
              "      <th>3</th>\n",
              "      <td>0.453654</td>\n",
              "      <td>0.160223</td>\n",
              "      <td>0.532732</td>\n",
              "      <td>0.069458</td>\n",
              "      <td>0.223184</td>\n",
              "      <td>0.090878</td>\n",
              "      <td>-0.53563</td>\n",
              "      <td>0.000802</td>\n",
              "    </tr>\n",
              "    <tr>\n",
              "      <th>4</th>\n",
              "      <td>0.153390</td>\n",
              "      <td>-0.195445</td>\n",
              "      <td>0.384050</td>\n",
              "      <td>-0.188583</td>\n",
              "      <td>-0.180504</td>\n",
              "      <td>0.777405</td>\n",
              "      <td>0.82079</td>\n",
              "      <td>0.001604</td>\n",
              "    </tr>\n",
              "  </tbody>\n",
              "</table>\n",
              "</div>"
            ],
            "text/plain": [
              "   published_papers  authors_citations  ...  authors  interests_pct\n",
              "0         -0.562625          -0.284362  ... -1.21384       0.000321\n",
              "1         -0.239263          -0.253344  ... -0.53563       0.000802\n",
              "2         -0.539527          -0.276090  ... -0.53563       0.000321\n",
              "3          0.453654           0.160223  ... -0.53563       0.000802\n",
              "4          0.153390          -0.195445  ...  0.82079       0.001604\n",
              "\n",
              "[5 rows x 8 columns]"
            ]
          },
          "metadata": {
            "tags": []
          },
          "execution_count": 105
        }
      ]
    },
    {
      "cell_type": "code",
      "metadata": {
        "id": "9oxErX2FJh03",
        "colab_type": "code",
        "colab": {}
      },
      "source": [
        "test = test.iloc[:,4:]\n",
        "test.drop(['interests'],1,inplace = True)"
      ],
      "execution_count": 0,
      "outputs": []
    },
    {
      "cell_type": "code",
      "metadata": {
        "id": "G0NwjRfWd1sE",
        "colab_type": "code",
        "colab": {}
      },
      "source": [
        "test.iloc[:,:-1] = sc.transform(test.iloc[:,:-1])"
      ],
      "execution_count": 0,
      "outputs": []
    },
    {
      "cell_type": "code",
      "metadata": {
        "id": "xdrGAV1nai6j",
        "colab_type": "code",
        "colab": {}
      },
      "source": [
        "sub2 = {'id':test2['id']}\n",
        "citations = lr.predict(test)\n",
        "sub2['citations'] = citations\n",
        "sub2 = pd.DataFrame(sub2)\n",
        "sub2.to_csv('sub2.csv',index=False)"
      ],
      "execution_count": 0,
      "outputs": []
    },
    {
      "cell_type": "code",
      "metadata": {
        "id": "thWrIMSbeuPh",
        "colab_type": "code",
        "colab": {}
      },
      "source": [
        "subxgb2 = {'id':test2['id']}\n",
        "citations = xgb.predict(test)\n",
        "subxgb2['citations'] = citations\n",
        "subxgb2 = pd.DataFrame(subxgb2)\n",
        "subxgb2.to_csv('subxgb2.csv',index=False)"
      ],
      "execution_count": 0,
      "outputs": []
    },
    {
      "cell_type": "code",
      "metadata": {
        "id": "iD3XG4zLbXe2",
        "colab_type": "code",
        "colab": {
          "base_uri": "https://localhost:8080/",
          "height": 200
        },
        "outputId": "8a36df49-6fde-41f7-b8d1-3042f75b8020"
      },
      "source": [
        "sub2.head()"
      ],
      "execution_count": 108,
      "outputs": [
        {
          "output_type": "execute_result",
          "data": {
            "text/html": [
              "<div>\n",
              "<style scoped>\n",
              "    .dataframe tbody tr th:only-of-type {\n",
              "        vertical-align: middle;\n",
              "    }\n",
              "\n",
              "    .dataframe tbody tr th {\n",
              "        vertical-align: top;\n",
              "    }\n",
              "\n",
              "    .dataframe thead th {\n",
              "        text-align: right;\n",
              "    }\n",
              "</style>\n",
              "<table border=\"1\" class=\"dataframe\">\n",
              "  <thead>\n",
              "    <tr style=\"text-align: right;\">\n",
              "      <th></th>\n",
              "      <th>id</th>\n",
              "      <th>citations</th>\n",
              "    </tr>\n",
              "  </thead>\n",
              "  <tbody>\n",
              "    <tr>\n",
              "      <th>0</th>\n",
              "      <td>77152</td>\n",
              "      <td>4.238303</td>\n",
              "    </tr>\n",
              "    <tr>\n",
              "      <th>1</th>\n",
              "      <td>253904</td>\n",
              "      <td>5.827881</td>\n",
              "    </tr>\n",
              "    <tr>\n",
              "      <th>2</th>\n",
              "      <td>46386</td>\n",
              "      <td>4.344722</td>\n",
              "    </tr>\n",
              "    <tr>\n",
              "      <th>3</th>\n",
              "      <td>19572</td>\n",
              "      <td>7.630582</td>\n",
              "    </tr>\n",
              "    <tr>\n",
              "      <th>4</th>\n",
              "      <td>182480</td>\n",
              "      <td>7.367564</td>\n",
              "    </tr>\n",
              "  </tbody>\n",
              "</table>\n",
              "</div>"
            ],
            "text/plain": [
              "       id  citations\n",
              "0   77152   4.238303\n",
              "1  253904   5.827881\n",
              "2   46386   4.344722\n",
              "3   19572   7.630582\n",
              "4  182480   7.367564"
            ]
          },
          "metadata": {
            "tags": []
          },
          "execution_count": 108
        }
      ]
    },
    {
      "cell_type": "code",
      "metadata": {
        "id": "WpY8fHJvbbhB",
        "colab_type": "code",
        "colab": {
          "base_uri": "https://localhost:8080/",
          "height": 200
        },
        "outputId": "dd5f0f0e-a02a-4d5c-bfe3-411dfa45f9e1"
      },
      "source": [
        "subxgb2.head()"
      ],
      "execution_count": 109,
      "outputs": [
        {
          "output_type": "execute_result",
          "data": {
            "text/html": [
              "<div>\n",
              "<style scoped>\n",
              "    .dataframe tbody tr th:only-of-type {\n",
              "        vertical-align: middle;\n",
              "    }\n",
              "\n",
              "    .dataframe tbody tr th {\n",
              "        vertical-align: top;\n",
              "    }\n",
              "\n",
              "    .dataframe thead th {\n",
              "        text-align: right;\n",
              "    }\n",
              "</style>\n",
              "<table border=\"1\" class=\"dataframe\">\n",
              "  <thead>\n",
              "    <tr style=\"text-align: right;\">\n",
              "      <th></th>\n",
              "      <th>id</th>\n",
              "      <th>citations</th>\n",
              "    </tr>\n",
              "  </thead>\n",
              "  <tbody>\n",
              "    <tr>\n",
              "      <th>0</th>\n",
              "      <td>77152</td>\n",
              "      <td>2.022874</td>\n",
              "    </tr>\n",
              "    <tr>\n",
              "      <th>1</th>\n",
              "      <td>253904</td>\n",
              "      <td>6.787819</td>\n",
              "    </tr>\n",
              "    <tr>\n",
              "      <th>2</th>\n",
              "      <td>46386</td>\n",
              "      <td>4.016860</td>\n",
              "    </tr>\n",
              "    <tr>\n",
              "      <th>3</th>\n",
              "      <td>19572</td>\n",
              "      <td>8.665321</td>\n",
              "    </tr>\n",
              "    <tr>\n",
              "      <th>4</th>\n",
              "      <td>182480</td>\n",
              "      <td>7.739607</td>\n",
              "    </tr>\n",
              "  </tbody>\n",
              "</table>\n",
              "</div>"
            ],
            "text/plain": [
              "       id  citations\n",
              "0   77152   2.022874\n",
              "1  253904   6.787819\n",
              "2   46386   4.016860\n",
              "3   19572   8.665321\n",
              "4  182480   7.739607"
            ]
          },
          "metadata": {
            "tags": []
          },
          "execution_count": 109
        }
      ]
    },
    {
      "cell_type": "code",
      "metadata": {
        "id": "mmVX_fdEDlEr",
        "colab_type": "code",
        "colab": {}
      },
      "source": [
        ""
      ],
      "execution_count": 0,
      "outputs": []
    }
  ]
}